{
  "nbformat": 4,
  "nbformat_minor": 0,
  "metadata": {
    "colab": {
      "provenance": [],
      "toc_visible": true
    },
    "kernelspec": {
      "name": "python3",
      "display_name": "Python 3"
    },
    "language_info": {
      "name": "python"
    }
  },
  "cells": [
    {
      "cell_type": "markdown",
      "source": [
        "#Gradient Descent"
      ],
      "metadata": {
        "id": "KGrjWcsxcPuV"
      }
    },
    {
      "cell_type": "markdown",
      "source": [
        "In the following section will I perform a process of updating weights for two examples using Stochastic Gradient Descent"
      ],
      "metadata": {
        "id": "Pwyx5xuvwlJC"
      }
    },
    {
      "cell_type": "markdown",
      "source": [
        "## First example"
      ],
      "metadata": {
        "id": "wGSD9SmMcY90"
      }
    },
    {
      "cell_type": "markdown",
      "source": [
        "In the first example I will use the Swedish Committee on Analysis of Risk Premium in Motor Insurance"
      ],
      "metadata": {
        "id": "Q1u3Qu9Rw8L9"
      }
    },
    {
      "cell_type": "markdown",
      "source": [
        "In the dataset:\n",
        "\n",
        "- \\( X \\) = number of claims\n",
        "- \\( Y \\) = total payment for all the claims in thousands of Swedish Kronor for geographical zones in Sweden"
      ],
      "metadata": {
        "id": "OeJzuOWBxdw-"
      }
    },
    {
      "cell_type": "code",
      "execution_count": 1,
      "metadata": {
        "id": "rDLcQaI9wZwL"
      },
      "outputs": [],
      "source": [
        "# import necessary libraries\n",
        "import numpy as np  # Matrix and vector computation package\n",
        "import pandas as pd\n",
        "import matplotlib.pyplot as plt  # Plotting library\n",
        "from tqdm import tqdm_notebook"
      ]
    },
    {
      "cell_type": "code",
      "source": [
        "# load dataset\n",
        "data = pd.read_csv('https://raw.githubusercontent.com/aaubs/ds-master/main/data/Swedish_Auto_Insurance_dataset.csv')"
      ],
      "metadata": {
        "id": "geMXzAbXweY7"
      },
      "execution_count": 2,
      "outputs": []
    },
    {
      "cell_type": "code",
      "source": [
        "data.head()"
      ],
      "metadata": {
        "colab": {
          "base_uri": "https://localhost:8080/",
          "height": 206
        },
        "id": "-mIM3jbXwjpU",
        "outputId": "bbc8d2a6-386b-4174-e971-2dcfe9985f64"
      },
      "execution_count": 3,
      "outputs": [
        {
          "output_type": "execute_result",
          "data": {
            "text/plain": [
              "     X      Y\n",
              "0  108  392.5\n",
              "1   19   46.2\n",
              "2   13   15.7\n",
              "3  124  422.2\n",
              "4   40  119.4"
            ],
            "text/html": [
              "\n",
              "  <div id=\"df-d550554e-f59b-4fd0-ae7a-47f7884788e1\" class=\"colab-df-container\">\n",
              "    <div>\n",
              "<style scoped>\n",
              "    .dataframe tbody tr th:only-of-type {\n",
              "        vertical-align: middle;\n",
              "    }\n",
              "\n",
              "    .dataframe tbody tr th {\n",
              "        vertical-align: top;\n",
              "    }\n",
              "\n",
              "    .dataframe thead th {\n",
              "        text-align: right;\n",
              "    }\n",
              "</style>\n",
              "<table border=\"1\" class=\"dataframe\">\n",
              "  <thead>\n",
              "    <tr style=\"text-align: right;\">\n",
              "      <th></th>\n",
              "      <th>X</th>\n",
              "      <th>Y</th>\n",
              "    </tr>\n",
              "  </thead>\n",
              "  <tbody>\n",
              "    <tr>\n",
              "      <th>0</th>\n",
              "      <td>108</td>\n",
              "      <td>392.5</td>\n",
              "    </tr>\n",
              "    <tr>\n",
              "      <th>1</th>\n",
              "      <td>19</td>\n",
              "      <td>46.2</td>\n",
              "    </tr>\n",
              "    <tr>\n",
              "      <th>2</th>\n",
              "      <td>13</td>\n",
              "      <td>15.7</td>\n",
              "    </tr>\n",
              "    <tr>\n",
              "      <th>3</th>\n",
              "      <td>124</td>\n",
              "      <td>422.2</td>\n",
              "    </tr>\n",
              "    <tr>\n",
              "      <th>4</th>\n",
              "      <td>40</td>\n",
              "      <td>119.4</td>\n",
              "    </tr>\n",
              "  </tbody>\n",
              "</table>\n",
              "</div>\n",
              "    <div class=\"colab-df-buttons\">\n",
              "\n",
              "  <div class=\"colab-df-container\">\n",
              "    <button class=\"colab-df-convert\" onclick=\"convertToInteractive('df-d550554e-f59b-4fd0-ae7a-47f7884788e1')\"\n",
              "            title=\"Convert this dataframe to an interactive table.\"\n",
              "            style=\"display:none;\">\n",
              "\n",
              "  <svg xmlns=\"http://www.w3.org/2000/svg\" height=\"24px\" viewBox=\"0 -960 960 960\">\n",
              "    <path d=\"M120-120v-720h720v720H120Zm60-500h600v-160H180v160Zm220 220h160v-160H400v160Zm0 220h160v-160H400v160ZM180-400h160v-160H180v160Zm440 0h160v-160H620v160ZM180-180h160v-160H180v160Zm440 0h160v-160H620v160Z\"/>\n",
              "  </svg>\n",
              "    </button>\n",
              "\n",
              "  <style>\n",
              "    .colab-df-container {\n",
              "      display:flex;\n",
              "      gap: 12px;\n",
              "    }\n",
              "\n",
              "    .colab-df-convert {\n",
              "      background-color: #E8F0FE;\n",
              "      border: none;\n",
              "      border-radius: 50%;\n",
              "      cursor: pointer;\n",
              "      display: none;\n",
              "      fill: #1967D2;\n",
              "      height: 32px;\n",
              "      padding: 0 0 0 0;\n",
              "      width: 32px;\n",
              "    }\n",
              "\n",
              "    .colab-df-convert:hover {\n",
              "      background-color: #E2EBFA;\n",
              "      box-shadow: 0px 1px 2px rgba(60, 64, 67, 0.3), 0px 1px 3px 1px rgba(60, 64, 67, 0.15);\n",
              "      fill: #174EA6;\n",
              "    }\n",
              "\n",
              "    .colab-df-buttons div {\n",
              "      margin-bottom: 4px;\n",
              "    }\n",
              "\n",
              "    [theme=dark] .colab-df-convert {\n",
              "      background-color: #3B4455;\n",
              "      fill: #D2E3FC;\n",
              "    }\n",
              "\n",
              "    [theme=dark] .colab-df-convert:hover {\n",
              "      background-color: #434B5C;\n",
              "      box-shadow: 0px 1px 3px 1px rgba(0, 0, 0, 0.15);\n",
              "      filter: drop-shadow(0px 1px 2px rgba(0, 0, 0, 0.3));\n",
              "      fill: #FFFFFF;\n",
              "    }\n",
              "  </style>\n",
              "\n",
              "    <script>\n",
              "      const buttonEl =\n",
              "        document.querySelector('#df-d550554e-f59b-4fd0-ae7a-47f7884788e1 button.colab-df-convert');\n",
              "      buttonEl.style.display =\n",
              "        google.colab.kernel.accessAllowed ? 'block' : 'none';\n",
              "\n",
              "      async function convertToInteractive(key) {\n",
              "        const element = document.querySelector('#df-d550554e-f59b-4fd0-ae7a-47f7884788e1');\n",
              "        const dataTable =\n",
              "          await google.colab.kernel.invokeFunction('convertToInteractive',\n",
              "                                                    [key], {});\n",
              "        if (!dataTable) return;\n",
              "\n",
              "        const docLinkHtml = 'Like what you see? Visit the ' +\n",
              "          '<a target=\"_blank\" href=https://colab.research.google.com/notebooks/data_table.ipynb>data table notebook</a>'\n",
              "          + ' to learn more about interactive tables.';\n",
              "        element.innerHTML = '';\n",
              "        dataTable['output_type'] = 'display_data';\n",
              "        await google.colab.output.renderOutput(dataTable, element);\n",
              "        const docLink = document.createElement('div');\n",
              "        docLink.innerHTML = docLinkHtml;\n",
              "        element.appendChild(docLink);\n",
              "      }\n",
              "    </script>\n",
              "  </div>\n",
              "\n",
              "\n",
              "<div id=\"df-0592b8c9-7102-4375-b1ad-5e1e3f21d54c\">\n",
              "  <button class=\"colab-df-quickchart\" onclick=\"quickchart('df-0592b8c9-7102-4375-b1ad-5e1e3f21d54c')\"\n",
              "            title=\"Suggest charts\"\n",
              "            style=\"display:none;\">\n",
              "\n",
              "<svg xmlns=\"http://www.w3.org/2000/svg\" height=\"24px\"viewBox=\"0 0 24 24\"\n",
              "     width=\"24px\">\n",
              "    <g>\n",
              "        <path d=\"M19 3H5c-1.1 0-2 .9-2 2v14c0 1.1.9 2 2 2h14c1.1 0 2-.9 2-2V5c0-1.1-.9-2-2-2zM9 17H7v-7h2v7zm4 0h-2V7h2v10zm4 0h-2v-4h2v4z\"/>\n",
              "    </g>\n",
              "</svg>\n",
              "  </button>\n",
              "\n",
              "<style>\n",
              "  .colab-df-quickchart {\n",
              "      --bg-color: #E8F0FE;\n",
              "      --fill-color: #1967D2;\n",
              "      --hover-bg-color: #E2EBFA;\n",
              "      --hover-fill-color: #174EA6;\n",
              "      --disabled-fill-color: #AAA;\n",
              "      --disabled-bg-color: #DDD;\n",
              "  }\n",
              "\n",
              "  [theme=dark] .colab-df-quickchart {\n",
              "      --bg-color: #3B4455;\n",
              "      --fill-color: #D2E3FC;\n",
              "      --hover-bg-color: #434B5C;\n",
              "      --hover-fill-color: #FFFFFF;\n",
              "      --disabled-bg-color: #3B4455;\n",
              "      --disabled-fill-color: #666;\n",
              "  }\n",
              "\n",
              "  .colab-df-quickchart {\n",
              "    background-color: var(--bg-color);\n",
              "    border: none;\n",
              "    border-radius: 50%;\n",
              "    cursor: pointer;\n",
              "    display: none;\n",
              "    fill: var(--fill-color);\n",
              "    height: 32px;\n",
              "    padding: 0;\n",
              "    width: 32px;\n",
              "  }\n",
              "\n",
              "  .colab-df-quickchart:hover {\n",
              "    background-color: var(--hover-bg-color);\n",
              "    box-shadow: 0 1px 2px rgba(60, 64, 67, 0.3), 0 1px 3px 1px rgba(60, 64, 67, 0.15);\n",
              "    fill: var(--button-hover-fill-color);\n",
              "  }\n",
              "\n",
              "  .colab-df-quickchart-complete:disabled,\n",
              "  .colab-df-quickchart-complete:disabled:hover {\n",
              "    background-color: var(--disabled-bg-color);\n",
              "    fill: var(--disabled-fill-color);\n",
              "    box-shadow: none;\n",
              "  }\n",
              "\n",
              "  .colab-df-spinner {\n",
              "    border: 2px solid var(--fill-color);\n",
              "    border-color: transparent;\n",
              "    border-bottom-color: var(--fill-color);\n",
              "    animation:\n",
              "      spin 1s steps(1) infinite;\n",
              "  }\n",
              "\n",
              "  @keyframes spin {\n",
              "    0% {\n",
              "      border-color: transparent;\n",
              "      border-bottom-color: var(--fill-color);\n",
              "      border-left-color: var(--fill-color);\n",
              "    }\n",
              "    20% {\n",
              "      border-color: transparent;\n",
              "      border-left-color: var(--fill-color);\n",
              "      border-top-color: var(--fill-color);\n",
              "    }\n",
              "    30% {\n",
              "      border-color: transparent;\n",
              "      border-left-color: var(--fill-color);\n",
              "      border-top-color: var(--fill-color);\n",
              "      border-right-color: var(--fill-color);\n",
              "    }\n",
              "    40% {\n",
              "      border-color: transparent;\n",
              "      border-right-color: var(--fill-color);\n",
              "      border-top-color: var(--fill-color);\n",
              "    }\n",
              "    60% {\n",
              "      border-color: transparent;\n",
              "      border-right-color: var(--fill-color);\n",
              "    }\n",
              "    80% {\n",
              "      border-color: transparent;\n",
              "      border-right-color: var(--fill-color);\n",
              "      border-bottom-color: var(--fill-color);\n",
              "    }\n",
              "    90% {\n",
              "      border-color: transparent;\n",
              "      border-bottom-color: var(--fill-color);\n",
              "    }\n",
              "  }\n",
              "</style>\n",
              "\n",
              "  <script>\n",
              "    async function quickchart(key) {\n",
              "      const quickchartButtonEl =\n",
              "        document.querySelector('#' + key + ' button');\n",
              "      quickchartButtonEl.disabled = true;  // To prevent multiple clicks.\n",
              "      quickchartButtonEl.classList.add('colab-df-spinner');\n",
              "      try {\n",
              "        const charts = await google.colab.kernel.invokeFunction(\n",
              "            'suggestCharts', [key], {});\n",
              "      } catch (error) {\n",
              "        console.error('Error during call to suggestCharts:', error);\n",
              "      }\n",
              "      quickchartButtonEl.classList.remove('colab-df-spinner');\n",
              "      quickchartButtonEl.classList.add('colab-df-quickchart-complete');\n",
              "    }\n",
              "    (() => {\n",
              "      let quickchartButtonEl =\n",
              "        document.querySelector('#df-0592b8c9-7102-4375-b1ad-5e1e3f21d54c button');\n",
              "      quickchartButtonEl.style.display =\n",
              "        google.colab.kernel.accessAllowed ? 'block' : 'none';\n",
              "    })();\n",
              "  </script>\n",
              "</div>\n",
              "    </div>\n",
              "  </div>\n"
            ]
          },
          "metadata": {},
          "execution_count": 3
        }
      ]
    },
    {
      "cell_type": "code",
      "source": [
        "# Using sklearn\n",
        "from sklearn.preprocessing import MinMaxScaler\n",
        "\n",
        "scaler = MinMaxScaler()\n",
        "data_scaled = scaler.fit_transform(data)\n",
        "data_s = pd.DataFrame(data_scaled, columns=data.columns)"
      ],
      "metadata": {
        "id": "ezjxEFdyx2fX"
      },
      "execution_count": 4,
      "outputs": []
    },
    {
      "cell_type": "markdown",
      "source": [
        "Firstly we normalise the data presented in data.head() so that one of the variables will not be more dominant in the analysis"
      ],
      "metadata": {
        "id": "tE6ialYQx7az"
      }
    },
    {
      "cell_type": "code",
      "source": [
        "data_s.head()"
      ],
      "metadata": {
        "colab": {
          "base_uri": "https://localhost:8080/",
          "height": 206
        },
        "id": "rcTf1VW5x5S5",
        "outputId": "d31bb0b2-f7b8-4ae0-8c6b-83454aac9aac"
      },
      "execution_count": 5,
      "outputs": [
        {
          "output_type": "execute_result",
          "data": {
            "text/plain": [
              "          X         Y\n",
              "0  0.870968  0.929654\n",
              "1  0.153226  0.109427\n",
              "2  0.104839  0.037186\n",
              "3  1.000000  1.000000\n",
              "4  0.322581  0.282804"
            ],
            "text/html": [
              "\n",
              "  <div id=\"df-390521e3-b9bd-4a77-ada7-31f6220ccee4\" class=\"colab-df-container\">\n",
              "    <div>\n",
              "<style scoped>\n",
              "    .dataframe tbody tr th:only-of-type {\n",
              "        vertical-align: middle;\n",
              "    }\n",
              "\n",
              "    .dataframe tbody tr th {\n",
              "        vertical-align: top;\n",
              "    }\n",
              "\n",
              "    .dataframe thead th {\n",
              "        text-align: right;\n",
              "    }\n",
              "</style>\n",
              "<table border=\"1\" class=\"dataframe\">\n",
              "  <thead>\n",
              "    <tr style=\"text-align: right;\">\n",
              "      <th></th>\n",
              "      <th>X</th>\n",
              "      <th>Y</th>\n",
              "    </tr>\n",
              "  </thead>\n",
              "  <tbody>\n",
              "    <tr>\n",
              "      <th>0</th>\n",
              "      <td>0.870968</td>\n",
              "      <td>0.929654</td>\n",
              "    </tr>\n",
              "    <tr>\n",
              "      <th>1</th>\n",
              "      <td>0.153226</td>\n",
              "      <td>0.109427</td>\n",
              "    </tr>\n",
              "    <tr>\n",
              "      <th>2</th>\n",
              "      <td>0.104839</td>\n",
              "      <td>0.037186</td>\n",
              "    </tr>\n",
              "    <tr>\n",
              "      <th>3</th>\n",
              "      <td>1.000000</td>\n",
              "      <td>1.000000</td>\n",
              "    </tr>\n",
              "    <tr>\n",
              "      <th>4</th>\n",
              "      <td>0.322581</td>\n",
              "      <td>0.282804</td>\n",
              "    </tr>\n",
              "  </tbody>\n",
              "</table>\n",
              "</div>\n",
              "    <div class=\"colab-df-buttons\">\n",
              "\n",
              "  <div class=\"colab-df-container\">\n",
              "    <button class=\"colab-df-convert\" onclick=\"convertToInteractive('df-390521e3-b9bd-4a77-ada7-31f6220ccee4')\"\n",
              "            title=\"Convert this dataframe to an interactive table.\"\n",
              "            style=\"display:none;\">\n",
              "\n",
              "  <svg xmlns=\"http://www.w3.org/2000/svg\" height=\"24px\" viewBox=\"0 -960 960 960\">\n",
              "    <path d=\"M120-120v-720h720v720H120Zm60-500h600v-160H180v160Zm220 220h160v-160H400v160Zm0 220h160v-160H400v160ZM180-400h160v-160H180v160Zm440 0h160v-160H620v160ZM180-180h160v-160H180v160Zm440 0h160v-160H620v160Z\"/>\n",
              "  </svg>\n",
              "    </button>\n",
              "\n",
              "  <style>\n",
              "    .colab-df-container {\n",
              "      display:flex;\n",
              "      gap: 12px;\n",
              "    }\n",
              "\n",
              "    .colab-df-convert {\n",
              "      background-color: #E8F0FE;\n",
              "      border: none;\n",
              "      border-radius: 50%;\n",
              "      cursor: pointer;\n",
              "      display: none;\n",
              "      fill: #1967D2;\n",
              "      height: 32px;\n",
              "      padding: 0 0 0 0;\n",
              "      width: 32px;\n",
              "    }\n",
              "\n",
              "    .colab-df-convert:hover {\n",
              "      background-color: #E2EBFA;\n",
              "      box-shadow: 0px 1px 2px rgba(60, 64, 67, 0.3), 0px 1px 3px 1px rgba(60, 64, 67, 0.15);\n",
              "      fill: #174EA6;\n",
              "    }\n",
              "\n",
              "    .colab-df-buttons div {\n",
              "      margin-bottom: 4px;\n",
              "    }\n",
              "\n",
              "    [theme=dark] .colab-df-convert {\n",
              "      background-color: #3B4455;\n",
              "      fill: #D2E3FC;\n",
              "    }\n",
              "\n",
              "    [theme=dark] .colab-df-convert:hover {\n",
              "      background-color: #434B5C;\n",
              "      box-shadow: 0px 1px 3px 1px rgba(0, 0, 0, 0.15);\n",
              "      filter: drop-shadow(0px 1px 2px rgba(0, 0, 0, 0.3));\n",
              "      fill: #FFFFFF;\n",
              "    }\n",
              "  </style>\n",
              "\n",
              "    <script>\n",
              "      const buttonEl =\n",
              "        document.querySelector('#df-390521e3-b9bd-4a77-ada7-31f6220ccee4 button.colab-df-convert');\n",
              "      buttonEl.style.display =\n",
              "        google.colab.kernel.accessAllowed ? 'block' : 'none';\n",
              "\n",
              "      async function convertToInteractive(key) {\n",
              "        const element = document.querySelector('#df-390521e3-b9bd-4a77-ada7-31f6220ccee4');\n",
              "        const dataTable =\n",
              "          await google.colab.kernel.invokeFunction('convertToInteractive',\n",
              "                                                    [key], {});\n",
              "        if (!dataTable) return;\n",
              "\n",
              "        const docLinkHtml = 'Like what you see? Visit the ' +\n",
              "          '<a target=\"_blank\" href=https://colab.research.google.com/notebooks/data_table.ipynb>data table notebook</a>'\n",
              "          + ' to learn more about interactive tables.';\n",
              "        element.innerHTML = '';\n",
              "        dataTable['output_type'] = 'display_data';\n",
              "        await google.colab.output.renderOutput(dataTable, element);\n",
              "        const docLink = document.createElement('div');\n",
              "        docLink.innerHTML = docLinkHtml;\n",
              "        element.appendChild(docLink);\n",
              "      }\n",
              "    </script>\n",
              "  </div>\n",
              "\n",
              "\n",
              "<div id=\"df-81ffc902-f34c-47e2-aa35-129539588414\">\n",
              "  <button class=\"colab-df-quickchart\" onclick=\"quickchart('df-81ffc902-f34c-47e2-aa35-129539588414')\"\n",
              "            title=\"Suggest charts\"\n",
              "            style=\"display:none;\">\n",
              "\n",
              "<svg xmlns=\"http://www.w3.org/2000/svg\" height=\"24px\"viewBox=\"0 0 24 24\"\n",
              "     width=\"24px\">\n",
              "    <g>\n",
              "        <path d=\"M19 3H5c-1.1 0-2 .9-2 2v14c0 1.1.9 2 2 2h14c1.1 0 2-.9 2-2V5c0-1.1-.9-2-2-2zM9 17H7v-7h2v7zm4 0h-2V7h2v10zm4 0h-2v-4h2v4z\"/>\n",
              "    </g>\n",
              "</svg>\n",
              "  </button>\n",
              "\n",
              "<style>\n",
              "  .colab-df-quickchart {\n",
              "      --bg-color: #E8F0FE;\n",
              "      --fill-color: #1967D2;\n",
              "      --hover-bg-color: #E2EBFA;\n",
              "      --hover-fill-color: #174EA6;\n",
              "      --disabled-fill-color: #AAA;\n",
              "      --disabled-bg-color: #DDD;\n",
              "  }\n",
              "\n",
              "  [theme=dark] .colab-df-quickchart {\n",
              "      --bg-color: #3B4455;\n",
              "      --fill-color: #D2E3FC;\n",
              "      --hover-bg-color: #434B5C;\n",
              "      --hover-fill-color: #FFFFFF;\n",
              "      --disabled-bg-color: #3B4455;\n",
              "      --disabled-fill-color: #666;\n",
              "  }\n",
              "\n",
              "  .colab-df-quickchart {\n",
              "    background-color: var(--bg-color);\n",
              "    border: none;\n",
              "    border-radius: 50%;\n",
              "    cursor: pointer;\n",
              "    display: none;\n",
              "    fill: var(--fill-color);\n",
              "    height: 32px;\n",
              "    padding: 0;\n",
              "    width: 32px;\n",
              "  }\n",
              "\n",
              "  .colab-df-quickchart:hover {\n",
              "    background-color: var(--hover-bg-color);\n",
              "    box-shadow: 0 1px 2px rgba(60, 64, 67, 0.3), 0 1px 3px 1px rgba(60, 64, 67, 0.15);\n",
              "    fill: var(--button-hover-fill-color);\n",
              "  }\n",
              "\n",
              "  .colab-df-quickchart-complete:disabled,\n",
              "  .colab-df-quickchart-complete:disabled:hover {\n",
              "    background-color: var(--disabled-bg-color);\n",
              "    fill: var(--disabled-fill-color);\n",
              "    box-shadow: none;\n",
              "  }\n",
              "\n",
              "  .colab-df-spinner {\n",
              "    border: 2px solid var(--fill-color);\n",
              "    border-color: transparent;\n",
              "    border-bottom-color: var(--fill-color);\n",
              "    animation:\n",
              "      spin 1s steps(1) infinite;\n",
              "  }\n",
              "\n",
              "  @keyframes spin {\n",
              "    0% {\n",
              "      border-color: transparent;\n",
              "      border-bottom-color: var(--fill-color);\n",
              "      border-left-color: var(--fill-color);\n",
              "    }\n",
              "    20% {\n",
              "      border-color: transparent;\n",
              "      border-left-color: var(--fill-color);\n",
              "      border-top-color: var(--fill-color);\n",
              "    }\n",
              "    30% {\n",
              "      border-color: transparent;\n",
              "      border-left-color: var(--fill-color);\n",
              "      border-top-color: var(--fill-color);\n",
              "      border-right-color: var(--fill-color);\n",
              "    }\n",
              "    40% {\n",
              "      border-color: transparent;\n",
              "      border-right-color: var(--fill-color);\n",
              "      border-top-color: var(--fill-color);\n",
              "    }\n",
              "    60% {\n",
              "      border-color: transparent;\n",
              "      border-right-color: var(--fill-color);\n",
              "    }\n",
              "    80% {\n",
              "      border-color: transparent;\n",
              "      border-right-color: var(--fill-color);\n",
              "      border-bottom-color: var(--fill-color);\n",
              "    }\n",
              "    90% {\n",
              "      border-color: transparent;\n",
              "      border-bottom-color: var(--fill-color);\n",
              "    }\n",
              "  }\n",
              "</style>\n",
              "\n",
              "  <script>\n",
              "    async function quickchart(key) {\n",
              "      const quickchartButtonEl =\n",
              "        document.querySelector('#' + key + ' button');\n",
              "      quickchartButtonEl.disabled = true;  // To prevent multiple clicks.\n",
              "      quickchartButtonEl.classList.add('colab-df-spinner');\n",
              "      try {\n",
              "        const charts = await google.colab.kernel.invokeFunction(\n",
              "            'suggestCharts', [key], {});\n",
              "      } catch (error) {\n",
              "        console.error('Error during call to suggestCharts:', error);\n",
              "      }\n",
              "      quickchartButtonEl.classList.remove('colab-df-spinner');\n",
              "      quickchartButtonEl.classList.add('colab-df-quickchart-complete');\n",
              "    }\n",
              "    (() => {\n",
              "      let quickchartButtonEl =\n",
              "        document.querySelector('#df-81ffc902-f34c-47e2-aa35-129539588414 button');\n",
              "      quickchartButtonEl.style.display =\n",
              "        google.colab.kernel.accessAllowed ? 'block' : 'none';\n",
              "    })();\n",
              "  </script>\n",
              "</div>\n",
              "    </div>\n",
              "  </div>\n"
            ]
          },
          "metadata": {},
          "execution_count": 5
        }
      ]
    },
    {
      "cell_type": "markdown",
      "source": [
        "The first show the input variable"
      ],
      "metadata": {
        "id": "mOqfMsr0yJfJ"
      }
    },
    {
      "cell_type": "code",
      "source": [
        "data_s['X'][0]"
      ],
      "metadata": {
        "colab": {
          "base_uri": "https://localhost:8080/"
        },
        "id": "ve4UkJ5Gw5kO",
        "outputId": "b17c47f0-d1f1-4ef1-9a6f-89d6e2e67ed6"
      },
      "execution_count": 6,
      "outputs": [
        {
          "output_type": "execute_result",
          "data": {
            "text/plain": [
              "0.8709677419354839"
            ]
          },
          "metadata": {},
          "execution_count": 6
        }
      ]
    },
    {
      "cell_type": "markdown",
      "source": [
        "Then compute the true value"
      ],
      "metadata": {
        "id": "WZS_j0JBzAXj"
      }
    },
    {
      "cell_type": "code",
      "source": [
        "data_s['Y'][0]"
      ],
      "metadata": {
        "colab": {
          "base_uri": "https://localhost:8080/"
        },
        "id": "eZ4uL-s8y1nX",
        "outputId": "823a2a93-c1e6-40b2-e413-6af66091ed2e"
      },
      "execution_count": 7,
      "outputs": [
        {
          "output_type": "execute_result",
          "data": {
            "text/plain": [
              "0.929654192325912"
            ]
          },
          "metadata": {},
          "execution_count": 7
        }
      ]
    },
    {
      "cell_type": "markdown",
      "source": [
        "Afterwords we calculate the prediction value\n",
        "\n",
        "This is calculated by taking the true value and multiply it by the weight\n",
        "\n",
        "y = wx"
      ],
      "metadata": {
        "id": "HRlLR8qazHpW"
      }
    },
    {
      "cell_type": "code",
      "source": [
        "data_s['X'][0]*10"
      ],
      "metadata": {
        "colab": {
          "base_uri": "https://localhost:8080/"
        },
        "id": "6MS4NOOxzEdb",
        "outputId": "69a1aeb8-bd35-4c52-e75f-b74bca46cd30"
      },
      "execution_count": 8,
      "outputs": [
        {
          "output_type": "execute_result",
          "data": {
            "text/plain": [
              "8.709677419354838"
            ]
          },
          "metadata": {},
          "execution_count": 8
        }
      ]
    },
    {
      "cell_type": "markdown",
      "source": [
        "Then we calculate the gradient calculation\n",
        "\n",
        "This is calculated by taking the average of 2 multiplied by the input variable multiplied by the prediction value minus the true value\n",
        "\n",
        "np.mean(2*x*(y-t)"
      ],
      "metadata": {
        "id": "dr7KdPYB2lE2"
      }
    },
    {
      "cell_type": "code",
      "source": [
        "np.mean(2*data_s['X'][0]*(8.709677419354838-0.929654192325912))"
      ],
      "metadata": {
        "colab": {
          "base_uri": "https://localhost:8080/"
        },
        "id": "74UC8xK52eFn",
        "outputId": "e81197ca-41ba-4f98-a089-210dce95a45b"
      },
      "execution_count": 9,
      "outputs": [
        {
          "output_type": "execute_result",
          "data": {
            "text/plain": [
              "13.552298524502001"
            ]
          },
          "metadata": {},
          "execution_count": 9
        }
      ]
    },
    {
      "cell_type": "markdown",
      "source": [
        "We know update the weights"
      ],
      "metadata": {
        "id": "HFNqxuHY385l"
      }
    },
    {
      "cell_type": "markdown",
      "source": [
        "We set the learning rate to 2"
      ],
      "metadata": {
        "id": "9okjjsKl4Hkk"
      }
    },
    {
      "cell_type": "markdown",
      "source": [
        "The updating of the weights are done by multipling the learning_rate and the gradient and then substracting the sum of the calculation with the original weight, which in this insident is 10"
      ],
      "metadata": {
        "id": "zbCA5kfE5ZhW"
      }
    },
    {
      "cell_type": "code",
      "source": [
        "learning_rate = 2"
      ],
      "metadata": {
        "id": "fXH4J2aa4C7Q"
      },
      "execution_count": 10,
      "outputs": []
    },
    {
      "cell_type": "code",
      "source": [
        "10 - learning_rate*13.552298524502001"
      ],
      "metadata": {
        "colab": {
          "base_uri": "https://localhost:8080/"
        },
        "id": "DShkmZ70305o",
        "outputId": "351954c7-cc08-4915-cf02-56a144122243"
      },
      "execution_count": 11,
      "outputs": [
        {
          "output_type": "execute_result",
          "data": {
            "text/plain": [
              "-17.104597049004003"
            ]
          },
          "metadata": {},
          "execution_count": 11
        }
      ]
    },
    {
      "cell_type": "markdown",
      "source": [
        "We will now calculate the loss function"
      ],
      "metadata": {
        "id": "iqFwYSlN55Bk"
      }
    },
    {
      "cell_type": "markdown",
      "source": [
        "This is done by taking the average of a function where the squared is taken by the true value minus the prediction value"
      ],
      "metadata": {
        "id": "SwMYn8SZ6Itu"
      }
    },
    {
      "cell_type": "markdown",
      "source": [
        "np.mean((t-y)**2)"
      ],
      "metadata": {
        "id": "Mnw6H7xS7cLF"
      }
    },
    {
      "cell_type": "code",
      "source": [
        "np.mean((data_s['Y'][0]-data_s['X'][0]*10)**2)"
      ],
      "metadata": {
        "colab": {
          "base_uri": "https://localhost:8080/"
        },
        "id": "9hWwPkVX6C5S",
        "outputId": "752453b9-1f9a-4aae-f500-c6871611be47"
      },
      "execution_count": 12,
      "outputs": [
        {
          "output_type": "execute_result",
          "data": {
            "text/plain": [
              "60.528761413109585"
            ]
          },
          "metadata": {},
          "execution_count": 12
        }
      ]
    },
    {
      "cell_type": "markdown",
      "source": [
        "##Second example"
      ],
      "metadata": {
        "id": "RSdL2MKDcdTu"
      }
    },
    {
      "cell_type": "markdown",
      "source": [
        "In the second example will I use the same dataset but instead do the calculation for the newt step\n",
        "\n",
        "The calculations will be done for sample 2 of the dataset"
      ],
      "metadata": {
        "id": "D9mO9hVQ8ffo"
      }
    },
    {
      "cell_type": "markdown",
      "source": [
        "Firstly I determine the input variable for the new step"
      ],
      "metadata": {
        "id": "dioFRNlv9XAM"
      }
    },
    {
      "cell_type": "code",
      "source": [
        "data_s['X'][1]"
      ],
      "metadata": {
        "colab": {
          "base_uri": "https://localhost:8080/"
        },
        "id": "I3b5zpTZ-PBa",
        "outputId": "e33f9bf7-0cfb-4922-baed-f457ab42015d"
      },
      "execution_count": 13,
      "outputs": [
        {
          "output_type": "execute_result",
          "data": {
            "text/plain": [
              "0.1532258064516129"
            ]
          },
          "metadata": {},
          "execution_count": 13
        }
      ]
    },
    {
      "cell_type": "markdown",
      "source": [
        "Then compute the true value"
      ],
      "metadata": {
        "id": "w-j3mHr0-VPH"
      }
    },
    {
      "cell_type": "code",
      "source": [
        "data_s['Y'][1]"
      ],
      "metadata": {
        "colab": {
          "base_uri": "https://localhost:8080/"
        },
        "id": "m_iwVeR4-Wee",
        "outputId": "69435f00-d49d-43fd-a889-5b73e69d7f44"
      },
      "execution_count": 14,
      "outputs": [
        {
          "output_type": "execute_result",
          "data": {
            "text/plain": [
              "0.1094268119374704"
            ]
          },
          "metadata": {},
          "execution_count": 14
        }
      ]
    },
    {
      "cell_type": "markdown",
      "source": [
        "Afterwords we calculate the prediction value\n"
      ],
      "metadata": {
        "id": "K6_R2L_t-Yzo"
      }
    },
    {
      "cell_type": "markdown",
      "source": [
        "When calculating the next step we use the updated weight from the previous step"
      ],
      "metadata": {
        "id": "E-b6KpqC-f2b"
      }
    },
    {
      "cell_type": "markdown",
      "source": [
        "y = wx"
      ],
      "metadata": {
        "id": "EgAnUEF8-vbK"
      }
    },
    {
      "cell_type": "code",
      "source": [
        "data_s['X'][1]*-17.104597049004003"
      ],
      "metadata": {
        "colab": {
          "base_uri": "https://localhost:8080/"
        },
        "id": "om_n4u9U-eg7",
        "outputId": "3938c442-066d-414e-cb11-f9d339e2926e"
      },
      "execution_count": 15,
      "outputs": [
        {
          "output_type": "execute_result",
          "data": {
            "text/plain": [
              "-2.6208656768635166"
            ]
          },
          "metadata": {},
          "execution_count": 15
        }
      ]
    },
    {
      "cell_type": "markdown",
      "source": [
        "Then we calculate the gradient calculation\n"
      ],
      "metadata": {
        "id": "Z71Wquti-8Mm"
      }
    },
    {
      "cell_type": "markdown",
      "source": [
        "np.mean(2x(y-t)"
      ],
      "metadata": {
        "id": "Vjn-Qeai_aAI"
      }
    },
    {
      "cell_type": "code",
      "source": [
        "np.mean(2*data_s['X'][1]*(-2.6208656768635166-0.1094268119374704))"
      ],
      "metadata": {
        "colab": {
          "base_uri": "https://localhost:8080/"
        },
        "id": "et0mjz6g-zuw",
        "outputId": "2bcfce23-ce89-4848-b0ce-cc1bda76a426"
      },
      "execution_count": 16,
      "outputs": [
        {
          "output_type": "execute_result",
          "data": {
            "text/plain": [
              "-0.8367025368906251"
            ]
          },
          "metadata": {},
          "execution_count": 16
        }
      ]
    },
    {
      "cell_type": "markdown",
      "source": [
        "We know update the weights"
      ],
      "metadata": {
        "id": "2Sz9EuuM_knr"
      }
    },
    {
      "cell_type": "markdown",
      "source": [
        "We update the weights by using the updated weights from the last step and minus the sum of the learning rate multiplyed by the new gradient weight"
      ],
      "metadata": {
        "id": "XM4porCf_wwU"
      }
    },
    {
      "cell_type": "code",
      "source": [
        "-17.104597049004003 - learning_rate*-0.8367025368906251"
      ],
      "metadata": {
        "colab": {
          "base_uri": "https://localhost:8080/"
        },
        "id": "M2o4xvFZ_ewr",
        "outputId": "b58b3f69-96b0-48c2-ff1e-da4e73615b53"
      },
      "execution_count": 17,
      "outputs": [
        {
          "output_type": "execute_result",
          "data": {
            "text/plain": [
              "-15.431191975222752"
            ]
          },
          "metadata": {},
          "execution_count": 17
        }
      ]
    },
    {
      "cell_type": "markdown",
      "source": [
        "We will now calculate the new loss function"
      ],
      "metadata": {
        "id": "RLYMZBsfANWD"
      }
    },
    {
      "cell_type": "code",
      "source": [
        "np.mean((data_s['Y'][1]-data_s['X'][1]*-17.104597049004003)**2)"
      ],
      "metadata": {
        "colab": {
          "base_uri": "https://localhost:8080/"
        },
        "id": "2ilMoX2XALZm",
        "outputId": "7e0d5d84-67de-48b7-f314-2cd4f72d8abe"
      },
      "execution_count": 18,
      "outputs": [
        {
          "output_type": "execute_result",
          "data": {
            "text/plain": [
              "7.454497074403089"
            ]
          },
          "metadata": {},
          "execution_count": 18
        }
      ]
    },
    {
      "cell_type": "markdown",
      "source": [
        "#Attention Mechanisme"
      ],
      "metadata": {
        "id": "Cuos6KK8cHrO"
      }
    },
    {
      "cell_type": "markdown",
      "source": [
        "In the following section the attention mechanisme exercise will be performed"
      ],
      "metadata": {
        "id": "7W-BGSTKcjEo"
      }
    },
    {
      "cell_type": "markdown",
      "source": [
        "##The bank of the river"
      ],
      "metadata": {
        "id": "8DvFpD-4d2X7"
      }
    },
    {
      "cell_type": "markdown",
      "source": [
        "We will calculate the embeddings for \"The bank of the river\" using BERT"
      ],
      "metadata": {
        "id": "R4l3bBl4cw68"
      }
    },
    {
      "cell_type": "code",
      "source": [
        "!pip install transformers --q"
      ],
      "metadata": {
        "colab": {
          "base_uri": "https://localhost:8080/"
        },
        "id": "CCNXO_3oB7ap",
        "outputId": "84504bd7-d9a2-427f-9c26-1d26dfde8ead"
      },
      "execution_count": 19,
      "outputs": [
        {
          "output_type": "stream",
          "name": "stdout",
          "text": [
            "\u001b[2K     \u001b[90m━━━━━━━━━━━━━━━━━━━━━━━━━━━━━━━━━━━━━━━━\u001b[0m \u001b[32m7.9/7.9 MB\u001b[0m \u001b[31m21.8 MB/s\u001b[0m eta \u001b[36m0:00:00\u001b[0m\n",
            "\u001b[2K     \u001b[90m━━━━━━━━━━━━━━━━━━━━━━━━━━━━━━━━━━━━━━━━\u001b[0m \u001b[32m311.1/311.1 kB\u001b[0m \u001b[31m24.2 MB/s\u001b[0m eta \u001b[36m0:00:00\u001b[0m\n",
            "\u001b[2K     \u001b[90m━━━━━━━━━━━━━━━━━━━━━━━━━━━━━━━━━━━━━━━━\u001b[0m \u001b[32m3.8/3.8 MB\u001b[0m \u001b[31m37.9 MB/s\u001b[0m eta \u001b[36m0:00:00\u001b[0m\n",
            "\u001b[2K     \u001b[90m━━━━━━━━━━━━━━━━━━━━━━━━━━━━━━━━━━━━━━━━\u001b[0m \u001b[32m1.3/1.3 MB\u001b[0m \u001b[31m50.3 MB/s\u001b[0m eta \u001b[36m0:00:00\u001b[0m\n",
            "\u001b[2K     \u001b[90m━━━━━━━━━━━━━━━━━━━━━━━━━━━━━━━━━━━━━━━━\u001b[0m \u001b[32m295.0/295.0 kB\u001b[0m \u001b[31m23.5 MB/s\u001b[0m eta \u001b[36m0:00:00\u001b[0m\n",
            "\u001b[?25h"
          ]
        }
      ]
    },
    {
      "cell_type": "code",
      "source": [
        "import numpy as np\n",
        "import torch"
      ],
      "metadata": {
        "id": "AU7M5SaWCDIr"
      },
      "execution_count": 20,
      "outputs": []
    },
    {
      "cell_type": "code",
      "source": [
        "from transformers import BertTokenizer, BertModel\n",
        "\n",
        "# Initialize the tokenizer and model\n",
        "tokenizer = BertTokenizer.from_pretrained('bert-base-uncased')\n",
        "model = BertModel.from_pretrained('bert-base-uncased')\n",
        "\n",
        "# Tokenize the sentence\n",
        "sentence = \"The bank of the river.\"\n",
        "inputs = tokenizer(sentence, return_tensors=\"pt\", add_special_tokens=True)\n",
        "\n",
        "# Get the token IDs (input to the model)\n",
        "input_ids = inputs['input_ids']\n",
        "\n",
        "# Forward pass through BERT to get the embeddings\n",
        "with torch.no_grad():\n",
        "    outputs = model(input_ids)\n",
        "\n",
        "# The last_hidden_state is the embeddings for the last layer\n",
        "# It has shape [batch_size, sequence_length, hidden_size], where hidden_size is 768 for BERT base\n",
        "embeddings = outputs.last_hidden_state.squeeze(0)  # Remove the batch dimension\n",
        "\n",
        "# Now, `embeddings` contains the embeddings for each token in the sentence"
      ],
      "metadata": {
        "id": "d7MCnAhTBoq2"
      },
      "execution_count": 47,
      "outputs": []
    },
    {
      "cell_type": "code",
      "source": [
        "embeddings.shape"
      ],
      "metadata": {
        "colab": {
          "base_uri": "https://localhost:8080/"
        },
        "id": "4d0jMcv6CL6a",
        "outputId": "2bbb86ed-2702-4bba-90a2-17d73fbecf9b"
      },
      "execution_count": 48,
      "outputs": [
        {
          "output_type": "execute_result",
          "data": {
            "text/plain": [
              "torch.Size([8, 768])"
            ]
          },
          "metadata": {},
          "execution_count": 48
        }
      ]
    },
    {
      "cell_type": "markdown",
      "source": [
        "We go in and filter so that we are looking specificly for the 5 words in the above sentence"
      ],
      "metadata": {
        "id": "uI0HXe_EQ-SS"
      }
    },
    {
      "cell_type": "code",
      "source": [
        "embeddings = embeddings[1:6]"
      ],
      "metadata": {
        "id": "ZRv-F-MrNnpm"
      },
      "execution_count": 49,
      "outputs": []
    },
    {
      "cell_type": "code",
      "source": [
        "embeddings"
      ],
      "metadata": {
        "colab": {
          "base_uri": "https://localhost:8080/"
        },
        "id": "LiQFJ8qbOJu-",
        "outputId": "1dfe2d1d-edc8-4a27-b64c-5861c94a1dfb"
      },
      "execution_count": 50,
      "outputs": [
        {
          "output_type": "execute_result",
          "data": {
            "text/plain": [
              "tensor([[-0.5750, -0.5788, -0.5748,  ..., -0.0392,  0.4852, -0.0132],\n",
              "        [-0.7964, -0.0945, -0.0785,  ..., -0.4288, -0.3915, -0.0054],\n",
              "        [-0.5301, -0.2400, -0.2633,  ..., -0.4168, -0.4402,  0.4956],\n",
              "        [-0.1171, -0.5150, -0.1592,  ..., -0.1978,  0.0113, -0.3614],\n",
              "        [ 0.4585, -0.1626,  0.1467,  ...,  0.1964, -0.4308, -0.5602]])"
            ]
          },
          "metadata": {},
          "execution_count": 50
        }
      ]
    },
    {
      "cell_type": "code",
      "source": [
        "embeddings.shape"
      ],
      "metadata": {
        "colab": {
          "base_uri": "https://localhost:8080/"
        },
        "id": "bN_vdp4iRUYc",
        "outputId": "ff90bbe4-39cc-4bc0-d0a9-5443a4141503"
      },
      "execution_count": 51,
      "outputs": [
        {
          "output_type": "execute_result",
          "data": {
            "text/plain": [
              "torch.Size([5, 768])"
            ]
          },
          "metadata": {},
          "execution_count": 51
        }
      ]
    },
    {
      "cell_type": "markdown",
      "source": [
        "We now want to perform the steps in the attention mechanism. The steps in the attention mechanism are the following:\n",
        "- Step 1: Similarity - Calculate dot products for Q and K (attention scores)\n",
        "- Step 2: Weights - Apply softmax to attention scores\n",
        "- Step 3: Contextualized vector - Multiply attention weights by V and sum to get output vectors\n",
        "\n"
      ],
      "metadata": {
        "id": "SSGL8U_yRsYl"
      }
    },
    {
      "cell_type": "markdown",
      "source": [
        "Before we insert the embeddings we have calculated using the BERT, we have to keep in mind that the results has to be put into arrays which is done by the \"np.array\""
      ],
      "metadata": {
        "id": "me0Mkf2_TYGm"
      }
    },
    {
      "cell_type": "code",
      "source": [
        "sentence_1 = [\"the\", \"bank\", \"of\", \"the\", \"river\"]\n",
        "# Initialize matrices for Q, K, V\n",
        "\n",
        "Q_1 = np.array(embeddings)\n",
        "K_1 = np.array(embeddings)\n",
        "V_1 = np.array(embeddings)\n",
        "\n",
        "# Step 1: Similarity - Calculate dot products for Q and K (attention scores)\n",
        "attention_scores_1 = Q_1.dot(K_1.T)\n",
        "\n",
        "# Step 2: Weights - Apply softmax to attention scores\n",
        "def softmax(x):\n",
        "    e_x = np.exp(x - np.max(x))\n",
        "    return e_x / e_x.sum(axis=0)\n",
        "\n",
        "attention_weights_1 = np.apply_along_axis(softmax, 1, attention_scores_1)\n",
        "\n",
        "# Step 3: Contextualized vector - Multiply attention weights by V and sum to get output vectors\n",
        "attention_output_1 = attention_weights_1.dot(V_1)"
      ],
      "metadata": {
        "id": "6oF3Cw5tNgZ3"
      },
      "execution_count": 60,
      "outputs": []
    },
    {
      "cell_type": "code",
      "source": [
        "attention_scores_1"
      ],
      "metadata": {
        "colab": {
          "base_uri": "https://localhost:8080/"
        },
        "id": "xCaUwBpeOmwU",
        "outputId": "1c6d40fc-c5f4-4be8-dca1-588adc5986a7"
      },
      "execution_count": 53,
      "outputs": [
        {
          "output_type": "execute_result",
          "data": {
            "text/plain": [
              "array([[206.20651 ,  83.04788 , 128.35246 , 153.8284  ,  93.3191  ],\n",
              "       [ 83.04788 , 190.10727 , 109.263535, 102.65686 , 127.55391 ],\n",
              "       [128.35246 , 109.263535, 199.40714 , 169.7085  , 134.47267 ],\n",
              "       [153.8284  , 102.65686 , 169.7085  , 229.48361 , 161.04176 ],\n",
              "       [ 93.3191  , 127.55391 , 134.47267 , 161.04176 , 228.80652 ]],\n",
              "      dtype=float32)"
            ]
          },
          "metadata": {},
          "execution_count": 53
        }
      ]
    },
    {
      "cell_type": "code",
      "source": [
        "attention_weights_1"
      ],
      "metadata": {
        "colab": {
          "base_uri": "https://localhost:8080/"
        },
        "id": "5TkS8DKLOpmH",
        "outputId": "bd11cace-a775-4ba4-810f-a07be61c3102"
      },
      "execution_count": 54,
      "outputs": [
        {
          "output_type": "execute_result",
          "data": {
            "text/plain": [
              "array([[1.0000000e+00, 0.0000000e+00, 1.5431773e-34, 1.7884411e-23,\n",
              "        0.0000000e+00],\n",
              "       [0.0000000e+00, 1.0000000e+00, 7.7626880e-36, 1.0489867e-38,\n",
              "        6.8142950e-28],\n",
              "       [1.3846752e-31, 7.0979270e-40, 1.0000000e+00, 1.2648674e-13,\n",
              "        6.2997138e-29],\n",
              "       [1.3911012e-33, 0.0000000e+00, 1.0964705e-26, 1.0000000e+00,\n",
              "        1.8883512e-30],\n",
              "       [0.0000000e+00, 1.1210388e-44, 1.0747959e-41, 3.7165565e-30,\n",
              "        1.0000000e+00]], dtype=float32)"
            ]
          },
          "metadata": {},
          "execution_count": 54
        }
      ]
    },
    {
      "cell_type": "code",
      "source": [
        "attention_output_1"
      ],
      "metadata": {
        "colab": {
          "base_uri": "https://localhost:8080/"
        },
        "id": "Pog1EM4POukQ",
        "outputId": "266bf2b7-80bb-4d31-89ae-82bf43c76a2b"
      },
      "execution_count": 55,
      "outputs": [
        {
          "output_type": "execute_result",
          "data": {
            "text/plain": [
              "array([[-0.57501024, -0.5788028 , -0.57484514, ..., -0.03924207,\n",
              "         0.48523563, -0.01316001],\n",
              "       [-0.7963598 , -0.09446155, -0.07845817, ..., -0.42880008,\n",
              "        -0.3915095 , -0.00539121],\n",
              "       [-0.53007376, -0.2400222 , -0.2633207 , ..., -0.41683054,\n",
              "        -0.4401723 ,  0.49564207],\n",
              "       [-0.1171483 , -0.5149877 , -0.15923049, ..., -0.19775128,\n",
              "         0.01125966, -0.36135077],\n",
              "       [ 0.45851472, -0.1625916 ,  0.14670944, ...,  0.19640635,\n",
              "        -0.43081006, -0.56021047]], dtype=float32)"
            ]
          },
          "metadata": {},
          "execution_count": 55
        }
      ]
    },
    {
      "cell_type": "markdown",
      "source": [
        "To illustrate how the words are placed in a vector space we reduce the dimensions of the embeddings to 2, so that it is possible to display them in a 2D space"
      ],
      "metadata": {
        "id": "OZgeGkfGdRe_"
      }
    },
    {
      "cell_type": "code",
      "source": [
        "import numpy as np\n",
        "import matplotlib.pyplot as plt\n",
        "from sklearn.decomposition import PCA\n",
        "\n",
        "# Create a PCA object to reduce to 2 dimensions\n",
        "pca = PCA(n_components=2)\n",
        "\n",
        "# Fit and transform the embeddings using PCA\n",
        "reduced_embeddings = pca.fit_transform(embeddings[1:])\n",
        "\n",
        "# Plot the reduced embeddings\n",
        "plt.figure(figsize=(10, 8))\n",
        "plt.scatter(reduced_embeddings[:, 0], reduced_embeddings[:, 1])\n",
        "\n",
        "# Annotate the points with the words\n",
        "words = [\"bank\", \"of\", \"the\", \"river\"]\n",
        "\n",
        "for i, word in enumerate(words):\n",
        "    plt.annotate(word, (reduced_embeddings[i, 0], reduced_embeddings[i, 1]))\n",
        "\n",
        "plt.title('Word Embeddings reduced to 2D space')\n",
        "plt.xlabel('Component 1')\n",
        "plt.ylabel('Component 2')\n",
        "plt.grid(True)\n",
        "plt.show()"
      ],
      "metadata": {
        "colab": {
          "base_uri": "https://localhost:8080/",
          "height": 718
        },
        "id": "kJrB8QX2DMHZ",
        "outputId": "aa9176a2-2043-46b7-ce31-9e26017247a4"
      },
      "execution_count": 56,
      "outputs": [
        {
          "output_type": "display_data",
          "data": {
            "text/plain": [
              "<Figure size 1000x800 with 1 Axes>"
            ],
            "image/png": "[encoded data removed]"
          },
          "metadata": {}
        }
      ]
    },
    {
      "cell_type": "markdown",
      "source": [
        "##Money in the bank"
      ],
      "metadata": {
        "id": "PdF3m_bkeF_u"
      }
    },
    {
      "cell_type": "markdown",
      "source": [
        "We will now perform the same calculations using the phase \"Money in the bank\""
      ],
      "metadata": {
        "id": "AyuRb3QDeXhd"
      }
    },
    {
      "cell_type": "code",
      "source": [
        "from transformers import BertTokenizer, BertModel\n",
        "\n",
        "# Initialize the tokenizer and model\n",
        "tokenizer_2 = BertTokenizer.from_pretrained('bert-base-uncased')\n",
        "model_2 = BertModel.from_pretrained('bert-base-uncased')\n",
        "\n",
        "# Tokenize the sentence\n",
        "sentence_2 = \"Money in the bank\"\n",
        "inputs_2 = tokenizer(sentence_2, return_tensors=\"pt\", add_special_tokens=True)\n",
        "\n",
        "# Get the token IDs (input to the model)\n",
        "input_ids_2 = inputs_2['input_ids']\n",
        "\n",
        "# Forward pass through BERT to get the embeddings\n",
        "with torch.no_grad():\n",
        "    outputs_2 = model(input_ids_2)\n",
        "\n",
        "# The last_hidden_state is the embeddings for the last layer\n",
        "# It has shape [batch_size, sequence_length, hidden_size], where hidden_size is 768 for BERT base\n",
        "embeddings_2 = outputs_2.last_hidden_state.squeeze(0)  # Remove the batch dimension\n",
        "\n",
        "# Now, `embeddings` contains the embeddings for each token in the sentence"
      ],
      "metadata": {
        "id": "QmNtfBQdeqAv"
      },
      "execution_count": 70,
      "outputs": []
    },
    {
      "cell_type": "code",
      "source": [
        "embeddings_2.shape"
      ],
      "metadata": {
        "colab": {
          "base_uri": "https://localhost:8080/"
        },
        "id": "AnVbX0f9fDCR",
        "outputId": "e4754e4a-da28-439a-f311-81c6d9222427"
      },
      "execution_count": 71,
      "outputs": [
        {
          "output_type": "execute_result",
          "data": {
            "text/plain": [
              "torch.Size([6, 768])"
            ]
          },
          "metadata": {},
          "execution_count": 71
        }
      ]
    },
    {
      "cell_type": "markdown",
      "source": [
        "We go in and filter so that we are looking specificly for the 4 words in the above sentence"
      ],
      "metadata": {
        "id": "Rfg32vn_fP1u"
      }
    },
    {
      "cell_type": "code",
      "source": [
        "embeddings_2 = embeddings_2[1:5]"
      ],
      "metadata": {
        "id": "96fMIuz4fUib"
      },
      "execution_count": 75,
      "outputs": []
    },
    {
      "cell_type": "code",
      "source": [
        "embeddings_2"
      ],
      "metadata": {
        "colab": {
          "base_uri": "https://localhost:8080/"
        },
        "id": "v6xOxBsnfXv6",
        "outputId": "ee696187-7fc8-46cd-f7b0-6b6035ddb25e"
      },
      "execution_count": 76,
      "outputs": [
        {
          "output_type": "execute_result",
          "data": {
            "text/plain": [
              "tensor([[-1.2124, -0.7215, -0.5642,  ..., -0.2531, -0.2335,  0.2688],\n",
              "        [-0.5468, -0.4709, -0.5990,  ..., -0.2600,  0.6713, -0.4869],\n",
              "        [-0.4017, -0.5309, -0.9628,  ..., -0.2013, -0.1055, -0.3972],\n",
              "        [ 0.8097,  0.1653, -0.3084,  ..., -0.1698, -0.7407, -0.2296]])"
            ]
          },
          "metadata": {},
          "execution_count": 76
        }
      ]
    },
    {
      "cell_type": "code",
      "source": [
        "embeddings_2.shape"
      ],
      "metadata": {
        "colab": {
          "base_uri": "https://localhost:8080/"
        },
        "id": "bvEOXy9SfdrA",
        "outputId": "2e924a64-1613-4a80-9048-dbbdd04f2a82"
      },
      "execution_count": 77,
      "outputs": [
        {
          "output_type": "execute_result",
          "data": {
            "text/plain": [
              "torch.Size([4, 768])"
            ]
          },
          "metadata": {},
          "execution_count": 77
        }
      ]
    },
    {
      "cell_type": "markdown",
      "source": [
        "We now want to perform the steps in the attention mechanism. The steps in the attention mechanism are the following:\n",
        "- Step 1: Similarity - Calculate dot products for Q and K (attention scores)\n",
        "- Step 2: Weights - Apply softmax to attention scores\n",
        "- Step 3: Contextualized vector - Multiply attention weights by V and sum to get output vectors\n"
      ],
      "metadata": {
        "id": "aAREXpgkfrMe"
      }
    },
    {
      "cell_type": "markdown",
      "source": [
        "Before we insert the embeddings we have calculated using the BERT, we have to keep in mind that the results has to be put into arrays which is done by the \"np.array\""
      ],
      "metadata": {
        "id": "y2xyZ1nkfvUm"
      }
    },
    {
      "cell_type": "code",
      "source": [
        "sentence_2 = [\"Money\", \"in\", \"the\", \"bank\"]\n",
        "# Initialize matrices for Q, K, V\n",
        "\n",
        "Q_2 = np.array(embeddings_2)\n",
        "K_2 = np.array(embeddings_2)\n",
        "V_2 = np.array(embeddings_2)\n",
        "\n",
        "# Step 1: Similarity - Calculate dot products for Q and K (attention scores)\n",
        "attention_scores_2 = Q_2.dot(K_2.T)\n",
        "\n",
        "# Step 2: Weights - Apply softmax to attention scores\n",
        "def softmax(x):\n",
        "    e_x = np.exp(x - np.max(x))\n",
        "    return e_x / e_x.sum(axis=0)\n",
        "\n",
        "attention_weights_2 = np.apply_along_axis(softmax, 1, attention_scores_2)\n",
        "\n",
        "# Step 3: Contextualized vector - Multiply attention weights by V and sum to get output vectors\n",
        "attention_output_2 = attention_weights_2.dot(V_2)"
      ],
      "metadata": {
        "id": "ye2C-gW4f0NW"
      },
      "execution_count": 78,
      "outputs": []
    },
    {
      "cell_type": "code",
      "source": [
        "attention_scores_2"
      ],
      "metadata": {
        "colab": {
          "base_uri": "https://localhost:8080/"
        },
        "id": "nQHmxJvagxrs",
        "outputId": "920c63b5-c112-4328-c48e-560936fa6179"
      },
      "execution_count": 79,
      "outputs": [
        {
          "output_type": "execute_result",
          "data": {
            "text/plain": [
              "array([[218.868   , 142.86656 ,  87.24394 ,   8.845545],\n",
              "       [142.86656 , 249.15959 ,  92.76553 ,  27.437151],\n",
              "       [ 87.24394 ,  92.76553 , 234.41742 ,  22.585785],\n",
              "       [  8.845545,  27.437151,  22.585785, 227.71655 ]], dtype=float32)"
            ]
          },
          "metadata": {},
          "execution_count": 79
        }
      ]
    },
    {
      "cell_type": "code",
      "source": [
        "attention_weights_2"
      ],
      "metadata": {
        "colab": {
          "base_uri": "https://localhost:8080/"
        },
        "id": "5kmLsogJg9d0",
        "outputId": "4d3a9e2b-7b03-46db-ec7e-5d0d89bfa5aa"
      },
      "execution_count": 81,
      "outputs": [
        {
          "output_type": "execute_result",
          "data": {
            "text/plain": [
              "array([[1.000000e+00, 9.840031e-34, 0.000000e+00, 0.000000e+00],\n",
              "       [0.000000e+00, 1.000000e+00, 0.000000e+00, 0.000000e+00],\n",
              "       [0.000000e+00, 0.000000e+00, 1.000000e+00, 0.000000e+00],\n",
              "       [0.000000e+00, 0.000000e+00, 0.000000e+00, 1.000000e+00]],\n",
              "      dtype=float32)"
            ]
          },
          "metadata": {},
          "execution_count": 81
        }
      ]
    },
    {
      "cell_type": "code",
      "source": [
        "attention_output_2"
      ],
      "metadata": {
        "colab": {
          "base_uri": "https://localhost:8080/"
        },
        "id": "XRZoSrO8hBTj",
        "outputId": "082b25fb-8931-4786-ba21-ab3a4b204b73"
      },
      "execution_count": 82,
      "outputs": [
        {
          "output_type": "execute_result",
          "data": {
            "text/plain": [
              "array([[-1.212428  , -0.7215117 , -0.5641559 , ..., -0.25309756,\n",
              "        -0.2334621 ,  0.26876387],\n",
              "       [-0.5468209 , -0.47094288, -0.5989534 , ..., -0.260013  ,\n",
              "         0.67126423, -0.48693076],\n",
              "       [-0.40171042, -0.5308609 , -0.9627955 , ..., -0.20131975,\n",
              "        -0.10550499, -0.39718258],\n",
              "       [ 0.80974627,  0.16528583, -0.308397  , ..., -0.16976532,\n",
              "        -0.74065936, -0.22956035]], dtype=float32)"
            ]
          },
          "metadata": {},
          "execution_count": 82
        }
      ]
    },
    {
      "cell_type": "markdown",
      "source": [
        "To illustrate how the words are placed in a vector space we reduce the dimensions of the embeddings to 2, so that it is possible to display them in a 2D space"
      ],
      "metadata": {
        "id": "qCooDdTFhRLw"
      }
    },
    {
      "cell_type": "code",
      "source": [
        "import numpy as np\n",
        "import matplotlib.pyplot as plt\n",
        "from sklearn.decomposition import PCA\n",
        "\n",
        "# Create a PCA object to reduce to 2 dimensions\n",
        "pca = PCA(n_components=2)\n",
        "\n",
        "# Fit and transform the embeddings using PCA\n",
        "reduced_embeddings = pca.fit_transform(embeddings_2)\n",
        "\n",
        "# Plot the reduced embeddings\n",
        "plt.figure(figsize=(10, 8))\n",
        "plt.scatter(reduced_embeddings[:, 0], reduced_embeddings[:, 1])\n",
        "\n",
        "# Annotate the points with the words\n",
        "words = [\"Money\", \"in\", \"the\", \"bank\"]\n",
        "\n",
        "for i, word in enumerate(words):\n",
        "    plt.annotate(word, (reduced_embeddings[i, 0], reduced_embeddings[i, 1]))\n",
        "\n",
        "plt.title('Word Embeddings reduced to 2D space')\n",
        "plt.xlabel('Component 1')\n",
        "plt.ylabel('Component 2')\n",
        "plt.grid(True)\n",
        "plt.show()"
      ],
      "metadata": {
        "colab": {
          "base_uri": "https://localhost:8080/",
          "height": 718
        },
        "id": "Rpi7CHTKhVWp",
        "outputId": "179c47ad-9fd4-4d91-ab3c-41fa5eca2cb0"
      },
      "execution_count": 88,
      "outputs": [
        {
          "output_type": "display_data",
          "data": {
            "text/plain": [
              "<Figure size 1000x800 with 1 Axes>"
            ],
            "image/png": "[encoded data removed]"
          },
          "metadata": {}
        }
      ]
    }
  ]
}